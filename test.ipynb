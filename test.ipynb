{
 "cells": [
  {
   "cell_type": "code",
   "execution_count": 1,
   "metadata": {},
   "outputs": [],
   "source": [
    "import os\n",
    "import shutil\n",
    "import yaml\n",
    "import sys\n",
    "import argparse\n",
    "from pathlib import Path\n",
    "from datetime import datetime"
   ]
  },
  {
   "cell_type": "code",
   "execution_count": 4,
   "metadata": {},
   "outputs": [
    {
     "data": {
      "text/plain": [
       "'/data/haekwan98/hkpy_spinner_automation'"
      ]
     },
     "execution_count": 4,
     "metadata": {},
     "output_type": "execute_result"
    }
   ],
   "source": [
    "base_dir = os.getcwd()\n",
    "base_dir"
   ]
  },
  {
   "cell_type": "code",
   "execution_count": 1,
   "metadata": {},
   "outputs": [],
   "source": [
    "import subprocess"
   ]
  },
  {
   "cell_type": "code",
   "execution_count": 4,
   "metadata": {},
   "outputs": [
    {
     "name": "stdout",
     "output_type": "stream",
     "text": [
      "['PARTITION AVAIL  TIMELIMIT  NODES  STATE NODELIST', 'skl          up 4-00:00:00      0    n/a ', 'csc          up 4-00:00:00      1   idle n006', 'gpu          up 4-00:00:00      0    n/a ', 'csc2         up 4-00:00:00      4   idle n[010-013]', 'gpu2         up 4-00:00:00      0    n/a ', 'loki1        up 4-00:00:00      7   idle n[101-104,106-108]', 'loki2        up 4-00:00:00      1   idle n115', 'loki3        up 4-00:00:00      5   idle n[117-120,123]', 'loki4        up 4-00:00:00      9   idle n[126-127,129-135]', 'gpul*        up 4-00:00:00      0    n/a ', '']\n"
     ]
    }
   ],
   "source": [
    "import subprocess\n",
    "# Run the sinfo command to get information about the nodes\n",
    "output = subprocess.check_output(['sinfo', '-t', 'idle'])\n",
    "\n",
    "# Convert the output to a string\n",
    "output = output.decode('utf-8')\n",
    "\n",
    "# Split the output into lines\n",
    "lines = output.split('\\n')\n",
    "\n",
    "print(lines)\n",
    "# # Iterate over the lines and check if the node is empty\n",
    "# for line in lines:\n",
    "#     node_info = line.split()\n",
    "#     if len(node_info) > 1 and node_info[1] == 'idle':\n",
    "#         print(f\"The node {node_info[0]} is empty\")\n"
   ]
  },
  {
   "cell_type": "code",
   "execution_count": 6,
   "metadata": {},
   "outputs": [],
   "source": [
    "import os\n",
    "sinfo = os.popen('sinfo').read()"
   ]
  },
  {
   "cell_type": "code",
   "execution_count": 7,
   "metadata": {},
   "outputs": [
    {
     "data": {
      "text/plain": [
       "'PARTITION AVAIL  TIMELIMIT  NODES  STATE NODELIST\\nskl          up 4-00:00:00      4  alloc n[001-004]\\ncsc          up 4-00:00:00      2   idle n[005-006]\\ngpu          up 4-00:00:00      2    mix n[007-008]\\ncsc2         up 4-00:00:00      9  alloc n[009,015-022]\\ncsc2         up 4-00:00:00      4   idle n[010-013]\\ngpu2         up 4-00:00:00      1  alloc n014\\nloki1        up 4-00:00:00      1  down* n105\\nloki1        up 4-00:00:00      7   idle n[101-104,106-108]\\nloki2        up 4-00:00:00      1  down* n109\\nloki2        up 4-00:00:00      6  alloc n[110-114,116]\\nloki2        up 4-00:00:00      1   idle n115\\nloki3        up 4-00:00:00      3  alloc n[121-122,124]\\nloki3        up 4-00:00:00      5   idle n[117-120,123]\\nloki4        up 4-00:00:00      3  alloc n[125,128,136]\\nloki4        up 4-00:00:00      9   idle n[126-127,129-135]\\ngpul*        up 4-00:00:00      2  alloc n[137-138]\\n'"
      ]
     },
     "execution_count": 7,
     "metadata": {},
     "output_type": "execute_result"
    }
   ],
   "source": [
    "sinfo"
   ]
  },
  {
   "cell_type": "code",
   "execution_count": null,
   "metadata": {},
   "outputs": [],
   "source": []
  }
 ],
 "metadata": {
  "kernelspec": {
   "display_name": "mdil",
   "language": "python",
   "name": "python3"
  },
  "language_info": {
   "codemirror_mode": {
    "name": "ipython",
    "version": 3
   },
   "file_extension": ".py",
   "mimetype": "text/x-python",
   "name": "python",
   "nbconvert_exporter": "python",
   "pygments_lexer": "ipython3",
   "version": "3.9.18"
  }
 },
 "nbformat": 4,
 "nbformat_minor": 2
}
